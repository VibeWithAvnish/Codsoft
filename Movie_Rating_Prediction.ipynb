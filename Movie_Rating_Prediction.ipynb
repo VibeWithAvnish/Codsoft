{
  "nbformat": 4,
  "nbformat_minor": 0,
  "metadata": {
    "colab": {
      "provenance": []
    },
    "kernelspec": {
      "name": "python3",
      "display_name": "Python 3"
    },
    "language_info": {
      "name": "python"
    }
  },
  "cells": [
    {
      "cell_type": "markdown",
      "source": [
        "Name : Avnish Kshirsagar\n",
        "\n",
        "\n"
      ],
      "metadata": {
        "id": "n4E5UqMkzUqA"
      }
    },
    {
      "cell_type": "markdown",
      "source": [
        "Model : Movie Rating Prediction"
      ],
      "metadata": {
        "id": "UP3s7FSzzgmx"
      }
    },
    {
      "cell_type": "code",
      "execution_count": 14,
      "metadata": {
        "id": "qBMrNMA5hAxZ"
      },
      "outputs": [],
      "source": [
        "import numpy as np\n",
        "import pandas as pd\n",
        "import matplotlib.pyplot as plt\n",
        "import seaborn as sns\n",
        "from sklearn.model_selection import train_test_split\n",
        "from sklearn.linear_model import LinearRegression\n",
        "from sklearn.preprocessing import OneHotEncoder"
      ]
    },
    {
      "cell_type": "code",
      "source": [
        "df = pd.read_csv('/content/IMDb Movies India.csv', encoding='ISO-8859-1')\n",
        "df.head()"
      ],
      "metadata": {
        "colab": {
          "base_uri": "https://localhost:8080/",
          "height": 206
        },
        "id": "eJM_MHWEhYN8",
        "outputId": "9b00200b-7e52-40b2-ec69-0f73dfb1fa41"
      },
      "execution_count": 5,
      "outputs": [
        {
          "output_type": "execute_result",
          "data": {
            "text/plain": [
              "                                 Name    Year Duration            Genre  \\\n",
              "0                                         NaN      NaN            Drama   \n",
              "1  #Gadhvi (He thought he was Gandhi)  (2019)  109 min            Drama   \n",
              "2                         #Homecoming  (2021)   90 min   Drama, Musical   \n",
              "3                             #Yaaram  (2019)  110 min  Comedy, Romance   \n",
              "4                   ...And Once Again  (2010)  105 min            Drama   \n",
              "\n",
              "   Rating Votes            Director       Actor 1             Actor 2  \\\n",
              "0     NaN   NaN       J.S. Randhawa      Manmauji              Birbal   \n",
              "1     7.0     8       Gaurav Bakshi  Rasika Dugal      Vivek Ghamande   \n",
              "2     NaN   NaN  Soumyajit Majumdar  Sayani Gupta   Plabita Borthakur   \n",
              "3     4.4    35          Ovais Khan       Prateik          Ishita Raj   \n",
              "4     NaN   NaN        Amol Palekar  Rajat Kapoor  Rituparna Sengupta   \n",
              "\n",
              "           Actor 3  \n",
              "0  Rajendra Bhatia  \n",
              "1    Arvind Jangid  \n",
              "2       Roy Angana  \n",
              "3  Siddhant Kapoor  \n",
              "4      Antara Mali  "
            ],
            "text/html": [
              "\n",
              "  <div id=\"df-b6cdf392-41a5-4b01-a9cb-ad5997abddef\" class=\"colab-df-container\">\n",
              "    <div>\n",
              "<style scoped>\n",
              "    .dataframe tbody tr th:only-of-type {\n",
              "        vertical-align: middle;\n",
              "    }\n",
              "\n",
              "    .dataframe tbody tr th {\n",
              "        vertical-align: top;\n",
              "    }\n",
              "\n",
              "    .dataframe thead th {\n",
              "        text-align: right;\n",
              "    }\n",
              "</style>\n",
              "<table border=\"1\" class=\"dataframe\">\n",
              "  <thead>\n",
              "    <tr style=\"text-align: right;\">\n",
              "      <th></th>\n",
              "      <th>Name</th>\n",
              "      <th>Year</th>\n",
              "      <th>Duration</th>\n",
              "      <th>Genre</th>\n",
              "      <th>Rating</th>\n",
              "      <th>Votes</th>\n",
              "      <th>Director</th>\n",
              "      <th>Actor 1</th>\n",
              "      <th>Actor 2</th>\n",
              "      <th>Actor 3</th>\n",
              "    </tr>\n",
              "  </thead>\n",
              "  <tbody>\n",
              "    <tr>\n",
              "      <th>0</th>\n",
              "      <td></td>\n",
              "      <td>NaN</td>\n",
              "      <td>NaN</td>\n",
              "      <td>Drama</td>\n",
              "      <td>NaN</td>\n",
              "      <td>NaN</td>\n",
              "      <td>J.S. Randhawa</td>\n",
              "      <td>Manmauji</td>\n",
              "      <td>Birbal</td>\n",
              "      <td>Rajendra Bhatia</td>\n",
              "    </tr>\n",
              "    <tr>\n",
              "      <th>1</th>\n",
              "      <td>#Gadhvi (He thought he was Gandhi)</td>\n",
              "      <td>(2019)</td>\n",
              "      <td>109 min</td>\n",
              "      <td>Drama</td>\n",
              "      <td>7.0</td>\n",
              "      <td>8</td>\n",
              "      <td>Gaurav Bakshi</td>\n",
              "      <td>Rasika Dugal</td>\n",
              "      <td>Vivek Ghamande</td>\n",
              "      <td>Arvind Jangid</td>\n",
              "    </tr>\n",
              "    <tr>\n",
              "      <th>2</th>\n",
              "      <td>#Homecoming</td>\n",
              "      <td>(2021)</td>\n",
              "      <td>90 min</td>\n",
              "      <td>Drama, Musical</td>\n",
              "      <td>NaN</td>\n",
              "      <td>NaN</td>\n",
              "      <td>Soumyajit Majumdar</td>\n",
              "      <td>Sayani Gupta</td>\n",
              "      <td>Plabita Borthakur</td>\n",
              "      <td>Roy Angana</td>\n",
              "    </tr>\n",
              "    <tr>\n",
              "      <th>3</th>\n",
              "      <td>#Yaaram</td>\n",
              "      <td>(2019)</td>\n",
              "      <td>110 min</td>\n",
              "      <td>Comedy, Romance</td>\n",
              "      <td>4.4</td>\n",
              "      <td>35</td>\n",
              "      <td>Ovais Khan</td>\n",
              "      <td>Prateik</td>\n",
              "      <td>Ishita Raj</td>\n",
              "      <td>Siddhant Kapoor</td>\n",
              "    </tr>\n",
              "    <tr>\n",
              "      <th>4</th>\n",
              "      <td>...And Once Again</td>\n",
              "      <td>(2010)</td>\n",
              "      <td>105 min</td>\n",
              "      <td>Drama</td>\n",
              "      <td>NaN</td>\n",
              "      <td>NaN</td>\n",
              "      <td>Amol Palekar</td>\n",
              "      <td>Rajat Kapoor</td>\n",
              "      <td>Rituparna Sengupta</td>\n",
              "      <td>Antara Mali</td>\n",
              "    </tr>\n",
              "  </tbody>\n",
              "</table>\n",
              "</div>\n",
              "    <div class=\"colab-df-buttons\">\n",
              "\n",
              "  <div class=\"colab-df-container\">\n",
              "    <button class=\"colab-df-convert\" onclick=\"convertToInteractive('df-b6cdf392-41a5-4b01-a9cb-ad5997abddef')\"\n",
              "            title=\"Convert this dataframe to an interactive table.\"\n",
              "            style=\"display:none;\">\n",
              "\n",
              "  <svg xmlns=\"http://www.w3.org/2000/svg\" height=\"24px\" viewBox=\"0 -960 960 960\">\n",
              "    <path d=\"M120-120v-720h720v720H120Zm60-500h600v-160H180v160Zm220 220h160v-160H400v160Zm0 220h160v-160H400v160ZM180-400h160v-160H180v160Zm440 0h160v-160H620v160ZM180-180h160v-160H180v160Zm440 0h160v-160H620v160Z\"/>\n",
              "  </svg>\n",
              "    </button>\n",
              "\n",
              "  <style>\n",
              "    .colab-df-container {\n",
              "      display:flex;\n",
              "      gap: 12px;\n",
              "    }\n",
              "\n",
              "    .colab-df-convert {\n",
              "      background-color: #E8F0FE;\n",
              "      border: none;\n",
              "      border-radius: 50%;\n",
              "      cursor: pointer;\n",
              "      display: none;\n",
              "      fill: #1967D2;\n",
              "      height: 32px;\n",
              "      padding: 0 0 0 0;\n",
              "      width: 32px;\n",
              "    }\n",
              "\n",
              "    .colab-df-convert:hover {\n",
              "      background-color: #E2EBFA;\n",
              "      box-shadow: 0px 1px 2px rgba(60, 64, 67, 0.3), 0px 1px 3px 1px rgba(60, 64, 67, 0.15);\n",
              "      fill: #174EA6;\n",
              "    }\n",
              "\n",
              "    .colab-df-buttons div {\n",
              "      margin-bottom: 4px;\n",
              "    }\n",
              "\n",
              "    [theme=dark] .colab-df-convert {\n",
              "      background-color: #3B4455;\n",
              "      fill: #D2E3FC;\n",
              "    }\n",
              "\n",
              "    [theme=dark] .colab-df-convert:hover {\n",
              "      background-color: #434B5C;\n",
              "      box-shadow: 0px 1px 3px 1px rgba(0, 0, 0, 0.15);\n",
              "      filter: drop-shadow(0px 1px 2px rgba(0, 0, 0, 0.3));\n",
              "      fill: #FFFFFF;\n",
              "    }\n",
              "  </style>\n",
              "\n",
              "    <script>\n",
              "      const buttonEl =\n",
              "        document.querySelector('#df-b6cdf392-41a5-4b01-a9cb-ad5997abddef button.colab-df-convert');\n",
              "      buttonEl.style.display =\n",
              "        google.colab.kernel.accessAllowed ? 'block' : 'none';\n",
              "\n",
              "      async function convertToInteractive(key) {\n",
              "        const element = document.querySelector('#df-b6cdf392-41a5-4b01-a9cb-ad5997abddef');\n",
              "        const dataTable =\n",
              "          await google.colab.kernel.invokeFunction('convertToInteractive',\n",
              "                                                    [key], {});\n",
              "        if (!dataTable) return;\n",
              "\n",
              "        const docLinkHtml = 'Like what you see? Visit the ' +\n",
              "          '<a target=\"_blank\" href=https://colab.research.google.com/notebooks/data_table.ipynb>data table notebook</a>'\n",
              "          + ' to learn more about interactive tables.';\n",
              "        element.innerHTML = '';\n",
              "        dataTable['output_type'] = 'display_data';\n",
              "        await google.colab.output.renderOutput(dataTable, element);\n",
              "        const docLink = document.createElement('div');\n",
              "        docLink.innerHTML = docLinkHtml;\n",
              "        element.appendChild(docLink);\n",
              "      }\n",
              "    </script>\n",
              "  </div>\n",
              "\n",
              "\n",
              "<div id=\"df-0c5ac4ee-149a-4724-ad7a-359024a45774\">\n",
              "  <button class=\"colab-df-quickchart\" onclick=\"quickchart('df-0c5ac4ee-149a-4724-ad7a-359024a45774')\"\n",
              "            title=\"Suggest charts\"\n",
              "            style=\"display:none;\">\n",
              "\n",
              "<svg xmlns=\"http://www.w3.org/2000/svg\" height=\"24px\"viewBox=\"0 0 24 24\"\n",
              "     width=\"24px\">\n",
              "    <g>\n",
              "        <path d=\"M19 3H5c-1.1 0-2 .9-2 2v14c0 1.1.9 2 2 2h14c1.1 0 2-.9 2-2V5c0-1.1-.9-2-2-2zM9 17H7v-7h2v7zm4 0h-2V7h2v10zm4 0h-2v-4h2v4z\"/>\n",
              "    </g>\n",
              "</svg>\n",
              "  </button>\n",
              "\n",
              "<style>\n",
              "  .colab-df-quickchart {\n",
              "      --bg-color: #E8F0FE;\n",
              "      --fill-color: #1967D2;\n",
              "      --hover-bg-color: #E2EBFA;\n",
              "      --hover-fill-color: #174EA6;\n",
              "      --disabled-fill-color: #AAA;\n",
              "      --disabled-bg-color: #DDD;\n",
              "  }\n",
              "\n",
              "  [theme=dark] .colab-df-quickchart {\n",
              "      --bg-color: #3B4455;\n",
              "      --fill-color: #D2E3FC;\n",
              "      --hover-bg-color: #434B5C;\n",
              "      --hover-fill-color: #FFFFFF;\n",
              "      --disabled-bg-color: #3B4455;\n",
              "      --disabled-fill-color: #666;\n",
              "  }\n",
              "\n",
              "  .colab-df-quickchart {\n",
              "    background-color: var(--bg-color);\n",
              "    border: none;\n",
              "    border-radius: 50%;\n",
              "    cursor: pointer;\n",
              "    display: none;\n",
              "    fill: var(--fill-color);\n",
              "    height: 32px;\n",
              "    padding: 0;\n",
              "    width: 32px;\n",
              "  }\n",
              "\n",
              "  .colab-df-quickchart:hover {\n",
              "    background-color: var(--hover-bg-color);\n",
              "    box-shadow: 0 1px 2px rgba(60, 64, 67, 0.3), 0 1px 3px 1px rgba(60, 64, 67, 0.15);\n",
              "    fill: var(--button-hover-fill-color);\n",
              "  }\n",
              "\n",
              "  .colab-df-quickchart-complete:disabled,\n",
              "  .colab-df-quickchart-complete:disabled:hover {\n",
              "    background-color: var(--disabled-bg-color);\n",
              "    fill: var(--disabled-fill-color);\n",
              "    box-shadow: none;\n",
              "  }\n",
              "\n",
              "  .colab-df-spinner {\n",
              "    border: 2px solid var(--fill-color);\n",
              "    border-color: transparent;\n",
              "    border-bottom-color: var(--fill-color);\n",
              "    animation:\n",
              "      spin 1s steps(1) infinite;\n",
              "  }\n",
              "\n",
              "  @keyframes spin {\n",
              "    0% {\n",
              "      border-color: transparent;\n",
              "      border-bottom-color: var(--fill-color);\n",
              "      border-left-color: var(--fill-color);\n",
              "    }\n",
              "    20% {\n",
              "      border-color: transparent;\n",
              "      border-left-color: var(--fill-color);\n",
              "      border-top-color: var(--fill-color);\n",
              "    }\n",
              "    30% {\n",
              "      border-color: transparent;\n",
              "      border-left-color: var(--fill-color);\n",
              "      border-top-color: var(--fill-color);\n",
              "      border-right-color: var(--fill-color);\n",
              "    }\n",
              "    40% {\n",
              "      border-color: transparent;\n",
              "      border-right-color: var(--fill-color);\n",
              "      border-top-color: var(--fill-color);\n",
              "    }\n",
              "    60% {\n",
              "      border-color: transparent;\n",
              "      border-right-color: var(--fill-color);\n",
              "    }\n",
              "    80% {\n",
              "      border-color: transparent;\n",
              "      border-right-color: var(--fill-color);\n",
              "      border-bottom-color: var(--fill-color);\n",
              "    }\n",
              "    90% {\n",
              "      border-color: transparent;\n",
              "      border-bottom-color: var(--fill-color);\n",
              "    }\n",
              "  }\n",
              "</style>\n",
              "\n",
              "  <script>\n",
              "    async function quickchart(key) {\n",
              "      const quickchartButtonEl =\n",
              "        document.querySelector('#' + key + ' button');\n",
              "      quickchartButtonEl.disabled = true;  // To prevent multiple clicks.\n",
              "      quickchartButtonEl.classList.add('colab-df-spinner');\n",
              "      try {\n",
              "        const charts = await google.colab.kernel.invokeFunction(\n",
              "            'suggestCharts', [key], {});\n",
              "      } catch (error) {\n",
              "        console.error('Error during call to suggestCharts:', error);\n",
              "      }\n",
              "      quickchartButtonEl.classList.remove('colab-df-spinner');\n",
              "      quickchartButtonEl.classList.add('colab-df-quickchart-complete');\n",
              "    }\n",
              "    (() => {\n",
              "      let quickchartButtonEl =\n",
              "        document.querySelector('#df-0c5ac4ee-149a-4724-ad7a-359024a45774 button');\n",
              "      quickchartButtonEl.style.display =\n",
              "        google.colab.kernel.accessAllowed ? 'block' : 'none';\n",
              "    })();\n",
              "  </script>\n",
              "</div>\n",
              "    </div>\n",
              "  </div>\n"
            ]
          },
          "metadata": {},
          "execution_count": 5
        }
      ]
    },
    {
      "cell_type": "code",
      "source": [
        "df.shape"
      ],
      "metadata": {
        "colab": {
          "base_uri": "https://localhost:8080/"
        },
        "id": "eo_ieeChh7hc",
        "outputId": "fd21ae9f-42bc-479b-e42f-201b05475291"
      },
      "execution_count": 6,
      "outputs": [
        {
          "output_type": "execute_result",
          "data": {
            "text/plain": [
              "(15509, 10)"
            ]
          },
          "metadata": {},
          "execution_count": 6
        }
      ]
    },
    {
      "cell_type": "code",
      "source": [
        "df.info()"
      ],
      "metadata": {
        "colab": {
          "base_uri": "https://localhost:8080/"
        },
        "id": "GzQTEHpCnYjy",
        "outputId": "930f4627-f82d-42f7-a2fb-1c3dc65057e9"
      },
      "execution_count": 22,
      "outputs": [
        {
          "output_type": "stream",
          "name": "stdout",
          "text": [
            "<class 'pandas.core.frame.DataFrame'>\n",
            "Int64Index: 5659 entries, 1 to 15508\n",
            "Data columns (total 10 columns):\n",
            " #   Column    Non-Null Count  Dtype  \n",
            "---  ------    --------------  -----  \n",
            " 0   Name      5659 non-null   object \n",
            " 1   Year      5659 non-null   object \n",
            " 2   Duration  5659 non-null   object \n",
            " 3   Genre     5659 non-null   object \n",
            " 4   Rating    5659 non-null   float64\n",
            " 5   Votes     5659 non-null   object \n",
            " 6   Director  5659 non-null   object \n",
            " 7   Actor 1   5659 non-null   object \n",
            " 8   Actor 2   5659 non-null   object \n",
            " 9   Actor 3   5659 non-null   object \n",
            "dtypes: float64(1), object(9)\n",
            "memory usage: 486.3+ KB\n"
          ]
        }
      ]
    },
    {
      "cell_type": "code",
      "source": [
        "df.isnull().sum()"
      ],
      "metadata": {
        "colab": {
          "base_uri": "https://localhost:8080/"
        },
        "id": "OR8WPKemic6c",
        "outputId": "314c8f1c-d3ef-46b8-d8d2-63981a41c5c1"
      },
      "execution_count": 7,
      "outputs": [
        {
          "output_type": "execute_result",
          "data": {
            "text/plain": [
              "Name           0\n",
              "Year         528\n",
              "Duration    8269\n",
              "Genre       1877\n",
              "Rating      7590\n",
              "Votes       7589\n",
              "Director     525\n",
              "Actor 1     1617\n",
              "Actor 2     2384\n",
              "Actor 3     3144\n",
              "dtype: int64"
            ]
          },
          "metadata": {},
          "execution_count": 7
        }
      ]
    },
    {
      "cell_type": "code",
      "source": [
        "df.dropna(inplace=True)"
      ],
      "metadata": {
        "id": "Y0zwg11likjD"
      },
      "execution_count": 8,
      "outputs": []
    },
    {
      "cell_type": "code",
      "source": [
        "df.isnull().sum()"
      ],
      "metadata": {
        "colab": {
          "base_uri": "https://localhost:8080/"
        },
        "id": "MOZUsYcji0dF",
        "outputId": "bea9a941-edd7-47ec-e233-e9a1da9068c2"
      },
      "execution_count": 9,
      "outputs": [
        {
          "output_type": "execute_result",
          "data": {
            "text/plain": [
              "Name        0\n",
              "Year        0\n",
              "Duration    0\n",
              "Genre       0\n",
              "Rating      0\n",
              "Votes       0\n",
              "Director    0\n",
              "Actor 1     0\n",
              "Actor 2     0\n",
              "Actor 3     0\n",
              "dtype: int64"
            ]
          },
          "metadata": {},
          "execution_count": 9
        }
      ]
    },
    {
      "cell_type": "code",
      "source": [
        "df.describe()"
      ],
      "metadata": {
        "colab": {
          "base_uri": "https://localhost:8080/",
          "height": 300
        },
        "id": "fO8XGonCi2Qc",
        "outputId": "4e386982-4839-461a-b9e8-c4d446324ddc"
      },
      "execution_count": 10,
      "outputs": [
        {
          "output_type": "execute_result",
          "data": {
            "text/plain": [
              "            Rating\n",
              "count  5659.000000\n",
              "mean      5.898533\n",
              "std       1.381165\n",
              "min       1.100000\n",
              "25%       5.000000\n",
              "50%       6.100000\n",
              "75%       6.900000\n",
              "max      10.000000"
            ],
            "text/html": [
              "\n",
              "  <div id=\"df-0cadbc19-e70e-4442-9f09-ddce5ffc05a6\" class=\"colab-df-container\">\n",
              "    <div>\n",
              "<style scoped>\n",
              "    .dataframe tbody tr th:only-of-type {\n",
              "        vertical-align: middle;\n",
              "    }\n",
              "\n",
              "    .dataframe tbody tr th {\n",
              "        vertical-align: top;\n",
              "    }\n",
              "\n",
              "    .dataframe thead th {\n",
              "        text-align: right;\n",
              "    }\n",
              "</style>\n",
              "<table border=\"1\" class=\"dataframe\">\n",
              "  <thead>\n",
              "    <tr style=\"text-align: right;\">\n",
              "      <th></th>\n",
              "      <th>Rating</th>\n",
              "    </tr>\n",
              "  </thead>\n",
              "  <tbody>\n",
              "    <tr>\n",
              "      <th>count</th>\n",
              "      <td>5659.000000</td>\n",
              "    </tr>\n",
              "    <tr>\n",
              "      <th>mean</th>\n",
              "      <td>5.898533</td>\n",
              "    </tr>\n",
              "    <tr>\n",
              "      <th>std</th>\n",
              "      <td>1.381165</td>\n",
              "    </tr>\n",
              "    <tr>\n",
              "      <th>min</th>\n",
              "      <td>1.100000</td>\n",
              "    </tr>\n",
              "    <tr>\n",
              "      <th>25%</th>\n",
              "      <td>5.000000</td>\n",
              "    </tr>\n",
              "    <tr>\n",
              "      <th>50%</th>\n",
              "      <td>6.100000</td>\n",
              "    </tr>\n",
              "    <tr>\n",
              "      <th>75%</th>\n",
              "      <td>6.900000</td>\n",
              "    </tr>\n",
              "    <tr>\n",
              "      <th>max</th>\n",
              "      <td>10.000000</td>\n",
              "    </tr>\n",
              "  </tbody>\n",
              "</table>\n",
              "</div>\n",
              "    <div class=\"colab-df-buttons\">\n",
              "\n",
              "  <div class=\"colab-df-container\">\n",
              "    <button class=\"colab-df-convert\" onclick=\"convertToInteractive('df-0cadbc19-e70e-4442-9f09-ddce5ffc05a6')\"\n",
              "            title=\"Convert this dataframe to an interactive table.\"\n",
              "            style=\"display:none;\">\n",
              "\n",
              "  <svg xmlns=\"http://www.w3.org/2000/svg\" height=\"24px\" viewBox=\"0 -960 960 960\">\n",
              "    <path d=\"M120-120v-720h720v720H120Zm60-500h600v-160H180v160Zm220 220h160v-160H400v160Zm0 220h160v-160H400v160ZM180-400h160v-160H180v160Zm440 0h160v-160H620v160ZM180-180h160v-160H180v160Zm440 0h160v-160H620v160Z\"/>\n",
              "  </svg>\n",
              "    </button>\n",
              "\n",
              "  <style>\n",
              "    .colab-df-container {\n",
              "      display:flex;\n",
              "      gap: 12px;\n",
              "    }\n",
              "\n",
              "    .colab-df-convert {\n",
              "      background-color: #E8F0FE;\n",
              "      border: none;\n",
              "      border-radius: 50%;\n",
              "      cursor: pointer;\n",
              "      display: none;\n",
              "      fill: #1967D2;\n",
              "      height: 32px;\n",
              "      padding: 0 0 0 0;\n",
              "      width: 32px;\n",
              "    }\n",
              "\n",
              "    .colab-df-convert:hover {\n",
              "      background-color: #E2EBFA;\n",
              "      box-shadow: 0px 1px 2px rgba(60, 64, 67, 0.3), 0px 1px 3px 1px rgba(60, 64, 67, 0.15);\n",
              "      fill: #174EA6;\n",
              "    }\n",
              "\n",
              "    .colab-df-buttons div {\n",
              "      margin-bottom: 4px;\n",
              "    }\n",
              "\n",
              "    [theme=dark] .colab-df-convert {\n",
              "      background-color: #3B4455;\n",
              "      fill: #D2E3FC;\n",
              "    }\n",
              "\n",
              "    [theme=dark] .colab-df-convert:hover {\n",
              "      background-color: #434B5C;\n",
              "      box-shadow: 0px 1px 3px 1px rgba(0, 0, 0, 0.15);\n",
              "      filter: drop-shadow(0px 1px 2px rgba(0, 0, 0, 0.3));\n",
              "      fill: #FFFFFF;\n",
              "    }\n",
              "  </style>\n",
              "\n",
              "    <script>\n",
              "      const buttonEl =\n",
              "        document.querySelector('#df-0cadbc19-e70e-4442-9f09-ddce5ffc05a6 button.colab-df-convert');\n",
              "      buttonEl.style.display =\n",
              "        google.colab.kernel.accessAllowed ? 'block' : 'none';\n",
              "\n",
              "      async function convertToInteractive(key) {\n",
              "        const element = document.querySelector('#df-0cadbc19-e70e-4442-9f09-ddce5ffc05a6');\n",
              "        const dataTable =\n",
              "          await google.colab.kernel.invokeFunction('convertToInteractive',\n",
              "                                                    [key], {});\n",
              "        if (!dataTable) return;\n",
              "\n",
              "        const docLinkHtml = 'Like what you see? Visit the ' +\n",
              "          '<a target=\"_blank\" href=https://colab.research.google.com/notebooks/data_table.ipynb>data table notebook</a>'\n",
              "          + ' to learn more about interactive tables.';\n",
              "        element.innerHTML = '';\n",
              "        dataTable['output_type'] = 'display_data';\n",
              "        await google.colab.output.renderOutput(dataTable, element);\n",
              "        const docLink = document.createElement('div');\n",
              "        docLink.innerHTML = docLinkHtml;\n",
              "        element.appendChild(docLink);\n",
              "      }\n",
              "    </script>\n",
              "  </div>\n",
              "\n",
              "\n",
              "<div id=\"df-3ea57639-899e-4011-88aa-b4804088f7ac\">\n",
              "  <button class=\"colab-df-quickchart\" onclick=\"quickchart('df-3ea57639-899e-4011-88aa-b4804088f7ac')\"\n",
              "            title=\"Suggest charts\"\n",
              "            style=\"display:none;\">\n",
              "\n",
              "<svg xmlns=\"http://www.w3.org/2000/svg\" height=\"24px\"viewBox=\"0 0 24 24\"\n",
              "     width=\"24px\">\n",
              "    <g>\n",
              "        <path d=\"M19 3H5c-1.1 0-2 .9-2 2v14c0 1.1.9 2 2 2h14c1.1 0 2-.9 2-2V5c0-1.1-.9-2-2-2zM9 17H7v-7h2v7zm4 0h-2V7h2v10zm4 0h-2v-4h2v4z\"/>\n",
              "    </g>\n",
              "</svg>\n",
              "  </button>\n",
              "\n",
              "<style>\n",
              "  .colab-df-quickchart {\n",
              "      --bg-color: #E8F0FE;\n",
              "      --fill-color: #1967D2;\n",
              "      --hover-bg-color: #E2EBFA;\n",
              "      --hover-fill-color: #174EA6;\n",
              "      --disabled-fill-color: #AAA;\n",
              "      --disabled-bg-color: #DDD;\n",
              "  }\n",
              "\n",
              "  [theme=dark] .colab-df-quickchart {\n",
              "      --bg-color: #3B4455;\n",
              "      --fill-color: #D2E3FC;\n",
              "      --hover-bg-color: #434B5C;\n",
              "      --hover-fill-color: #FFFFFF;\n",
              "      --disabled-bg-color: #3B4455;\n",
              "      --disabled-fill-color: #666;\n",
              "  }\n",
              "\n",
              "  .colab-df-quickchart {\n",
              "    background-color: var(--bg-color);\n",
              "    border: none;\n",
              "    border-radius: 50%;\n",
              "    cursor: pointer;\n",
              "    display: none;\n",
              "    fill: var(--fill-color);\n",
              "    height: 32px;\n",
              "    padding: 0;\n",
              "    width: 32px;\n",
              "  }\n",
              "\n",
              "  .colab-df-quickchart:hover {\n",
              "    background-color: var(--hover-bg-color);\n",
              "    box-shadow: 0 1px 2px rgba(60, 64, 67, 0.3), 0 1px 3px 1px rgba(60, 64, 67, 0.15);\n",
              "    fill: var(--button-hover-fill-color);\n",
              "  }\n",
              "\n",
              "  .colab-df-quickchart-complete:disabled,\n",
              "  .colab-df-quickchart-complete:disabled:hover {\n",
              "    background-color: var(--disabled-bg-color);\n",
              "    fill: var(--disabled-fill-color);\n",
              "    box-shadow: none;\n",
              "  }\n",
              "\n",
              "  .colab-df-spinner {\n",
              "    border: 2px solid var(--fill-color);\n",
              "    border-color: transparent;\n",
              "    border-bottom-color: var(--fill-color);\n",
              "    animation:\n",
              "      spin 1s steps(1) infinite;\n",
              "  }\n",
              "\n",
              "  @keyframes spin {\n",
              "    0% {\n",
              "      border-color: transparent;\n",
              "      border-bottom-color: var(--fill-color);\n",
              "      border-left-color: var(--fill-color);\n",
              "    }\n",
              "    20% {\n",
              "      border-color: transparent;\n",
              "      border-left-color: var(--fill-color);\n",
              "      border-top-color: var(--fill-color);\n",
              "    }\n",
              "    30% {\n",
              "      border-color: transparent;\n",
              "      border-left-color: var(--fill-color);\n",
              "      border-top-color: var(--fill-color);\n",
              "      border-right-color: var(--fill-color);\n",
              "    }\n",
              "    40% {\n",
              "      border-color: transparent;\n",
              "      border-right-color: var(--fill-color);\n",
              "      border-top-color: var(--fill-color);\n",
              "    }\n",
              "    60% {\n",
              "      border-color: transparent;\n",
              "      border-right-color: var(--fill-color);\n",
              "    }\n",
              "    80% {\n",
              "      border-color: transparent;\n",
              "      border-right-color: var(--fill-color);\n",
              "      border-bottom-color: var(--fill-color);\n",
              "    }\n",
              "    90% {\n",
              "      border-color: transparent;\n",
              "      border-bottom-color: var(--fill-color);\n",
              "    }\n",
              "  }\n",
              "</style>\n",
              "\n",
              "  <script>\n",
              "    async function quickchart(key) {\n",
              "      const quickchartButtonEl =\n",
              "        document.querySelector('#' + key + ' button');\n",
              "      quickchartButtonEl.disabled = true;  // To prevent multiple clicks.\n",
              "      quickchartButtonEl.classList.add('colab-df-spinner');\n",
              "      try {\n",
              "        const charts = await google.colab.kernel.invokeFunction(\n",
              "            'suggestCharts', [key], {});\n",
              "      } catch (error) {\n",
              "        console.error('Error during call to suggestCharts:', error);\n",
              "      }\n",
              "      quickchartButtonEl.classList.remove('colab-df-spinner');\n",
              "      quickchartButtonEl.classList.add('colab-df-quickchart-complete');\n",
              "    }\n",
              "    (() => {\n",
              "      let quickchartButtonEl =\n",
              "        document.querySelector('#df-3ea57639-899e-4011-88aa-b4804088f7ac button');\n",
              "      quickchartButtonEl.style.display =\n",
              "        google.colab.kernel.accessAllowed ? 'block' : 'none';\n",
              "    })();\n",
              "  </script>\n",
              "</div>\n",
              "    </div>\n",
              "  </div>\n"
            ]
          },
          "metadata": {},
          "execution_count": 10
        }
      ]
    },
    {
      "cell_type": "code",
      "source": [
        "df.nunique()"
      ],
      "metadata": {
        "colab": {
          "base_uri": "https://localhost:8080/"
        },
        "id": "8yraeYVKkHuk",
        "outputId": "c8141598-fe36-4762-af0e-1d27135fcc16"
      },
      "execution_count": 12,
      "outputs": [
        {
          "output_type": "execute_result",
          "data": {
            "text/plain": [
              "Name        5385\n",
              "Year          91\n",
              "Duration     174\n",
              "Genre        376\n",
              "Rating        83\n",
              "Votes       2027\n",
              "Director    2431\n",
              "Actor 1     1960\n",
              "Actor 2     2321\n",
              "Actor 3     2556\n",
              "dtype: int64"
            ]
          },
          "metadata": {},
          "execution_count": 12
        }
      ]
    },
    {
      "cell_type": "code",
      "source": [
        "unique_genres = df['Genre'].unique()\n",
        "print('Unique Genres: ', unique_genres)"
      ],
      "metadata": {
        "colab": {
          "base_uri": "https://localhost:8080/"
        },
        "id": "Wsif58TColCd",
        "outputId": "ee5c17c8-0019-4d65-bcf3-722fc6f98e58"
      },
      "execution_count": 23,
      "outputs": [
        {
          "output_type": "stream",
          "name": "stdout",
          "text": [
            "Unique Genres:  ['Drama' 'Comedy, Romance' 'Comedy, Drama, Musical' 'Drama, Romance, War'\n",
            " 'Horror, Mystery, Thriller' 'Action, Crime, Thriller' 'Horror'\n",
            " 'Horror, Romance, Thriller' 'Comedy, Drama, Romance' 'Comedy, Drama'\n",
            " 'Crime, Drama, Mystery' 'Horror, Thriller' 'Comedy, Horror'\n",
            " 'Drama, Horror, Mystery' 'Action, Thriller' 'Action'\n",
            " 'Horror, Mystery, Romance' 'Horror, Mystery' 'Drama, Horror, Romance'\n",
            " 'Action, Drama, History' 'Action, Drama, War' 'Thriller' 'Comedy'\n",
            " 'Adventure, Horror, Mystery' 'Action, Sci-Fi' 'Crime, Mystery, Thriller'\n",
            " 'Drama, History' 'Sport' 'Biography, Drama, History' 'Horror, Romance'\n",
            " 'Crime, Drama' 'Adventure, Drama' 'Comedy, Mystery, Thriller'\n",
            " 'Drama, Romance' 'Crime, Thriller' 'Horror, Sci-Fi, Thriller'\n",
            " 'Drama, Mystery, Thriller' 'Drama, Family, Musical' 'Action, Comedy'\n",
            " 'Action, Adventure, Fantasy' 'Documentary' 'Drama, Horror, Musical'\n",
            " 'Action, Biography, Drama' 'Action, Fantasy, Mystery'\n",
            " 'Adventure, Drama, Mystery' 'Mystery, Thriller' 'Comedy, Crime, Drama'\n",
            " 'Musical, Romance' 'Drama, Thriller' 'Action, Adventure, Comedy'\n",
            " 'Romance' 'Action, Crime, Drama' 'Musical, Romance, Drama'\n",
            " 'Action, Sci-Fi, Thriller' 'Action, Drama, Romance' 'Mystery, Romance'\n",
            " 'Fantasy' 'Drama, Romance, Thriller' 'Drama, Family'\n",
            " 'Action, Comedy, Drama' 'Action, Drama' 'Drama, Musical, Romance'\n",
            " 'Action, Romance' 'Action, Crime' 'Action, Drama, Crime'\n",
            " 'Drama, Family, Music' 'Action, Drama, Family' 'Drama, History, Romance'\n",
            " 'Crime, Drama, Music' 'Sci-Fi' 'Comedy, Drama, Family'\n",
            " 'Crime, Mystery, Romance' 'Action, Comedy, Crime'\n",
            " 'Crime, Drama, Thriller' 'Comedy, Family, Fantasy' 'Romance, Drama'\n",
            " 'Drama, Family, Romance' 'Romance, Drama, Family'\n",
            " 'Musical, Romance, Thriller' 'Family, Musical, Romance'\n",
            " 'Musical, Drama, Romance' 'Drama, Music, Musical' 'Drama, Mystery'\n",
            " 'Adventure, Comedy, Romance' 'Action, Drama, Thriller'\n",
            " 'Crime, Drama, Horror' 'Drama, Horror, Thriller'\n",
            " 'Action, Musical, Thriller' 'Romance, Thriller' 'Drama, Music'\n",
            " 'Drama, Musical' 'Crime, Drama, Musical' 'Action, Mystery, Thriller'\n",
            " 'Action, Crime, Mystery' 'Action, Adventure, Thriller'\n",
            " 'Comedy, Romance, Sci-Fi' 'Action, Drama, Mystery'\n",
            " 'Action, Comedy, Thriller' 'Biography, Drama' 'Action, Comedy, Fantasy'\n",
            " 'Drama, Family, Horror' 'Adventure' 'Action, Adventure, Family'\n",
            " 'Action, Drama, Musical' 'Adventure, Thriller' 'Crime, Mystery'\n",
            " 'Adventure, Comedy, Drama' 'Drama, Crime' 'Drama, Fantasy, Romance'\n",
            " 'Musical, Comedy, Drama' 'Action, Comedy, Romance'\n",
            " 'Drama, History, Musical' 'Action, Crime, Horror' 'Adventure, Fantasy'\n",
            " 'Action, Drama, Fantasy' 'Adventure, Drama, Fantasy'\n",
            " 'Adventure, Fantasy, Romance' 'Action, Adventure, Drama'\n",
            " 'Action, Adventure' 'Adventure, Drama, Romance' 'Family' 'Mystery'\n",
            " 'Drama, Fantasy, Thriller' 'Musical, Fantasy' 'Documentary, Thriller'\n",
            " 'Mystery, Romance, Musical' 'History, Musical, Romance'\n",
            " 'Musical, Drama, Crime' 'Musical, Thriller, Mystery'\n",
            " 'Biography, Drama, Romance' 'Biography' 'History' 'Crime'\n",
            " 'Biography, Drama, Music' 'Drama, Sci-Fi' 'Comedy, Musical, Romance'\n",
            " 'Drama, Sport' 'Drama, Family, Comedy' 'Action, Thriller, Romance'\n",
            " 'Comedy, Romance, Thriller' 'Action, Crime, Musical'\n",
            " 'Action, Crime, Romance' 'Animation, Action, Adventure'\n",
            " 'Action, Drama, Sport' 'Documentary, History' 'Comedy, Musical'\n",
            " 'Biography, Crime, Thriller' 'Adventure, Mystery, Thriller'\n",
            " 'Biography, Drama, Sport' 'Action, Romance, Thriller'\n",
            " 'Action, Comedy, Musical' 'Crime, Drama, Romance'\n",
            " 'Mystery, Romance, Thriller' 'Action, Adventure, Musical'\n",
            " 'Crime, Musical, Mystery' 'Action, Thriller, Crime'\n",
            " 'Adventure, Comedy, Crime' 'Comedy, Horror, Musical' 'Family, Thriller'\n",
            " 'Drama, Action, Crime' 'Drama, War' 'Comedy, Drama, Thriller' 'Animation'\n",
            " 'Musical, Drama' 'Action, Drama, Horror' 'Biography, Crime, Drama'\n",
            " 'Action, Drama, Music' 'Adventure, Drama, Family'\n",
            " 'Drama, Romance, Musical' 'Musical' 'War' 'Comedy, Musical, Drama'\n",
            " 'Thriller, Musical, Mystery' 'Drama, Action, Horror'\n",
            " 'Adventure, Crime, Drama' 'Family, Romance' 'Crime, Fantasy, Mystery'\n",
            " 'Documentary, Biography, Drama' 'Action, Fantasy, Thriller'\n",
            " 'Animation, Drama, History' 'Biography, Drama, Musical'\n",
            " 'Adventure, Drama, History' 'Family, Comedy' 'Comedy, Drama, Music'\n",
            " 'Comedy, Horror, Mystery' 'Comedy, Drama, Fantasy'\n",
            " 'Documentary, History, News' 'Action, Crime, Family'\n",
            " 'Drama, Musical, Mystery' 'Comedy, Family' 'Action, Thriller, Mystery'\n",
            " 'Drama, Family, Fantasy' 'Action, Family' 'Comedy, Thriller'\n",
            " 'Action, Adventure, Mystery' 'Comedy, Action' 'Animation, Drama, Romance'\n",
            " 'Comedy, Crime, Romance' 'Comedy, Drama, Sport'\n",
            " 'Documentary, Crime, History' 'Musical, Mystery, Drama'\n",
            " 'Drama, Family, Thriller' 'Drama, Musical, Thriller'\n",
            " 'Animation, Action, Comedy' 'Drama, Fantasy, Sci-Fi' 'Comedy, Crime'\n",
            " 'Drama, Family, Sport' 'Comedy, Fantasy, Romance'\n",
            " 'Action, Adventure, History' 'Comedy, Family, Romance'\n",
            " 'Animation, Adventure, Fantasy' 'Adventure, Comedy, Family'\n",
            " 'Drama, History, War' 'Action, Musical, Romance'\n",
            " 'Comedy, Romance, Musical' 'Fantasy, Drama' 'Action, Horror, Sci-Fi'\n",
            " 'Mystery, Sci-Fi, Thriller' 'Biography, Family' 'Drama, Action, Comedy'\n",
            " 'Drama, Music, Romance' 'Action, Biography, Crime'\n",
            " 'Action, Adventure, Crime' 'Adventure, Drama, Musical'\n",
            " 'Adventure, Drama, Sci-Fi' 'Family, Music, Romance'\n",
            " 'Fantasy, Mystery, Romance' 'Animation, Family'\n",
            " 'Action, Adventure, Romance' 'Romance, Comedy, Drama'\n",
            " 'Animation, Adventure, Comedy' 'Music' 'Crime, Drama, Family'\n",
            " 'Family, Drama' 'Comedy, Crime, Mystery' 'Comedy, Mystery'\n",
            " 'Adventure, Drama, Music' 'Biography, Drama, War'\n",
            " 'Musical, Drama, Family' 'Drama, Musical, Family'\n",
            " 'Comedy, Crime, Thriller' 'Action, History' 'Adventure, Drama, Thriller'\n",
            " 'Drama, History, Thriller' 'Documentary, Drama' 'Comedy, Sport'\n",
            " 'Animation, Comedy, Family' 'Drama, Fantasy' 'Crime, Romance, Thriller'\n",
            " 'Comedy, Musical, Action' 'Drama, Horror' 'Comedy, Crime, Musical'\n",
            " 'Drama, Family, Action' 'Biography, History' 'History, Romance'\n",
            " 'Drama, History, Sport' 'Animation, Comedy, Drama'\n",
            " 'Drama, Comedy, Family' 'Family, Drama, Thriller'\n",
            " 'Musical, Mystery, Thriller' 'Music, Romance' 'Musical, Comedy, Romance'\n",
            " 'Musical, Action, Drama' 'Action, Musical, War' 'Romance, Comedy'\n",
            " 'Action, Fantasy, Horror' 'Crime, Drama, History' 'Comedy, Drama, Horror'\n",
            " 'Crime, Horror, Thriller' 'Comedy, Sci-Fi' 'Romance, Action, Crime'\n",
            " 'Musical, Thriller' 'Action, Romance, Comedy' 'Comedy, Family, Musical'\n",
            " 'Horror, Drama, Mystery' 'Thriller, Mystery, Family'\n",
            " 'Comedy, Drama, Sci-Fi' 'Documentary, Biography, Crime' 'Comedy, Fantasy'\n",
            " 'Action, Crime, Sci-Fi' 'Action, Horror, Mystery' 'Comedy, War'\n",
            " 'Drama, Fantasy, History' 'Drama, Family, Mystery' 'Adventure, Romance'\n",
            " 'Romance, Action, Drama' 'Comedy, Music, Romance'\n",
            " 'Comedy, Family, Sci-Fi' 'Action, Drama, Western'\n",
            " 'Comedy, Drama, Mystery' 'Action, Romance, Drama'\n",
            " 'Biography, Comedy, Drama' 'Action, Mystery, Romance' 'Action, Musical'\n",
            " 'Drama, Family, History' 'Crime, Musical, Romance'\n",
            " 'Romance, Thriller, Mystery' 'Drama, Crime, Mystery'\n",
            " 'Drama, Mystery, Romance' 'Biography, Drama, Family'\n",
            " 'Action, Family, Mystery' 'Animation, Adventure, Family'\n",
            " 'Comedy, Mystery, Romance' 'Drama, Thriller, Action'\n",
            " 'Drama, Romance, Sport' 'Musical, Family, Drama' 'Drama, Fantasy, Horror'\n",
            " 'Action, Adventure, Sci-Fi' 'Drama, Action, Musical'\n",
            " 'Drama, Musical, Sport' 'Action, Comedy, Horror' 'Documentary, Music'\n",
            " 'Drama, Fantasy, Musical' 'Action, Fantasy, Musical' 'Animation, Action'\n",
            " 'Comedy, Music' 'Action, Fantasy' 'Fantasy, Musical, Mystery'\n",
            " 'Adventure, Family, Fantasy' 'Drama, Fantasy, War' 'Action, War'\n",
            " 'Animation, Family, Musical' 'Adventure, Biography, Drama'\n",
            " 'Drama, Romance, Family' 'Family, Romance, Drama'\n",
            " 'Drama, Adventure, Action' 'Comedy, Crime, Family'\n",
            " 'Biography, Drama, Thriller' 'Action, Comedy, Mystery'\n",
            " 'Romance, Sci-Fi, Thriller' 'Drama, Fantasy, Mystery' 'Thriller, Action'\n",
            " 'Fantasy, Thriller, Action' 'Fantasy, Romance' 'Action, Mystery'\n",
            " 'Adventure, Biography, History' 'Fantasy, Horror, Mystery'\n",
            " 'Crime, Horror, Mystery' 'Action, Adventure, Biography'\n",
            " 'Action, Family, Drama' 'Thriller, Mystery' 'Musical, Drama, Comedy'\n",
            " 'Documentary, Family' 'Action, Fantasy, Sci-Fi' 'Drama, Comedy, Action'\n",
            " 'Documentary, Sport' 'Adventure, History, Thriller'\n",
            " 'Documentary, Biography' 'Adventure, Horror, Romance'\n",
            " 'Mystery, Musical, Romance' 'Action, Adventure, Horror'\n",
            " 'Action, Crime, History' 'Sci-Fi, Thriller'\n",
            " 'Documentary, Family, History' 'Fantasy, Horror'\n",
            " 'Animation, Drama, Musical' 'Action, Crime, Fantasy'\n",
            " 'Comedy, Musical, Mystery' 'Romance, Musical, Action' 'Crime, Romance'\n",
            " 'Animation, Family, History' 'Romance, Musical, Comedy'\n",
            " 'Comedy, Drama, History' 'Action, Thriller, War'\n",
            " 'Animation, Drama, Adventure' 'Drama, Mystery, Sci-Fi'\n",
            " 'Crime, Horror, Romance' 'Fantasy, Horror, Romance'\n",
            " 'Comedy, Fantasy, Musical' 'Animation, Action, Drama'\n",
            " 'Crime, Musical, Thriller' 'Action, Comedy, War' 'Mystery, Sci-Fi'\n",
            " 'Horror, Romance, Sci-Fi' 'Romance, Musical, Drama'\n",
            " 'Documentary, Biography, Musical']\n"
          ]
        }
      ]
    },
    {
      "cell_type": "code",
      "source": [
        "rating_dist = df['Rating'].value_counts\n",
        "print('Rating Distribution:\\n', rating_dist)"
      ],
      "metadata": {
        "colab": {
          "base_uri": "https://localhost:8080/"
        },
        "id": "G79SktKGo__s",
        "outputId": "fc11a3d3-a7cc-461b-83f9-26a8d5cd268c"
      },
      "execution_count": 24,
      "outputs": [
        {
          "output_type": "stream",
          "name": "stdout",
          "text": [
            "Rating Distribution:\n",
            " <bound method IndexOpsMixin.value_counts of 1        7.0\n",
            "3        4.4\n",
            "5        4.7\n",
            "6        7.4\n",
            "8        5.6\n",
            "        ... \n",
            "15493    6.1\n",
            "15494    6.2\n",
            "15503    5.8\n",
            "15505    4.5\n",
            "15508    6.2\n",
            "Name: Rating, Length: 5659, dtype: float64>\n"
          ]
        }
      ]
    },
    {
      "cell_type": "code",
      "source": [
        "df.drop_duplicates(inplace=True)"
      ],
      "metadata": {
        "id": "tQD38XKspT3B"
      },
      "execution_count": 25,
      "outputs": []
    },
    {
      "cell_type": "code",
      "source": [
        "top_rated_movies = df.sort_values(by = 'Rating', ascending = False).head(10)\n",
        "plt.figure(figsize = (10,6))\n",
        "plt.barh(top_rated_movies['Name'], top_rated_movies['Rating'], color = 'Blue')\n",
        "plt.xlabel('Rating')\n",
        "plt.ylabel('Movie')\n",
        "plt.title('Top 10 Highest Rated Movies')\n",
        "plt.gca().invert_yaxis()\n",
        "plt.show()"
      ],
      "metadata": {
        "colab": {
          "base_uri": "https://localhost:8080/",
          "height": 564
        },
        "id": "Dr6zto5tpbcO",
        "outputId": "d2aaa4bb-a481-45c5-c686-51294a491a67"
      },
      "execution_count": 28,
      "outputs": [
        {
          "output_type": "display_data",
          "data": {
            "text/plain": [
              "<Figure size 1000x600 with 1 Axes>"
            ],
            "image/png": "[encoded data removed]"
          },
          "metadata": {}
        }
      ]
    },
    {
      "cell_type": "code",
      "source": [
        "actors = pd.concat([df['Actor 1'], df['Actor 2'], df['Actor 3']])\n",
        "actor_count = actors.value_counts().reset_index()\n",
        "actor_count.columns = ['Actor', 'Number of Movies']\n",
        "plt.figure(figsize = (10,5))\n",
        "sns.barplot(x = 'Number of Movies', y = 'Actor', data = actor_count.head(10), palette = 'viridis')\n",
        "plt.xlabel('Number of Movies')\n",
        "plt.ylabel('Actor')\n",
        "plt.title('Top 10 Actors by number of Movies Performed')\n",
        "plt.show()"
      ],
      "metadata": {
        "colab": {
          "base_uri": "https://localhost:8080/",
          "height": 487
        },
        "id": "pRPpaZf7qW0q",
        "outputId": "b5719066-85c6-4335-9df3-341a93aa7a5b"
      },
      "execution_count": 29,
      "outputs": [
        {
          "output_type": "display_data",
          "data": {
            "text/plain": [
              "<Figure size 1000x500 with 1 Axes>"
            ],
            "image/png": "[encoded data removed]"
          },
          "metadata": {}
        }
      ]
    },
    {
      "cell_type": "code",
      "source": [
        "df['Votes'] = df['Votes'].str.replace(',', '')\n",
        "df['Year'] = df['Year'].astype(str)\n",
        "df['Duration'] = df['Duration'].astype(str)\n",
        "df['Year'] = df['Year'].str.extract('(\\d+)').astype(float)\n",
        "df['Duration'] = df['Duration'].str.extract('(\\d+)').astype(float)\n",
        "\n",
        "X = df[['Year', 'Duration', 'Votes']]\n",
        "Y = df['Rating']\n",
        "\n",
        "X_train, X_test, Y_train, Y_test = train_test_split(X, Y, test_size = 0.25, random_state = 42)"
      ],
      "metadata": {
        "id": "5FsdOO-5sBvu"
      },
      "execution_count": 37,
      "outputs": []
    },
    {
      "cell_type": "code",
      "source": [
        "model = LinearRegression()"
      ],
      "metadata": {
        "id": "duGj4knIujpV"
      },
      "execution_count": 38,
      "outputs": []
    },
    {
      "cell_type": "code",
      "source": [
        "model.fit(X_train, Y_train)"
      ],
      "metadata": {
        "colab": {
          "base_uri": "https://localhost:8080/",
          "height": 74
        },
        "id": "5BwYnIkluo0Y",
        "outputId": "44237dfb-8026-4797-a077-83ef4184c657"
      },
      "execution_count": 39,
      "outputs": [
        {
          "output_type": "execute_result",
          "data": {
            "text/plain": [
              "LinearRegression()"
            ],
            "text/html": [
              "<style>#sk-container-id-1 {color: black;background-color: white;}#sk-container-id-1 pre{padding: 0;}#sk-container-id-1 div.sk-toggleable {background-color: white;}#sk-container-id-1 label.sk-toggleable__label {cursor: pointer;display: block;width: 100%;margin-bottom: 0;padding: 0.3em;box-sizing: border-box;text-align: center;}#sk-container-id-1 label.sk-toggleable__label-arrow:before {content: \"▸\";float: left;margin-right: 0.25em;color: #696969;}#sk-container-id-1 label.sk-toggleable__label-arrow:hover:before {color: black;}#sk-container-id-1 div.sk-estimator:hover label.sk-toggleable__label-arrow:before {color: black;}#sk-container-id-1 div.sk-toggleable__content {max-height: 0;max-width: 0;overflow: hidden;text-align: left;background-color: #f0f8ff;}#sk-container-id-1 div.sk-toggleable__content pre {margin: 0.2em;color: black;border-radius: 0.25em;background-color: #f0f8ff;}#sk-container-id-1 input.sk-toggleable__control:checked~div.sk-toggleable__content {max-height: 200px;max-width: 100%;overflow: auto;}#sk-container-id-1 input.sk-toggleable__control:checked~label.sk-toggleable__label-arrow:before {content: \"▾\";}#sk-container-id-1 div.sk-estimator input.sk-toggleable__control:checked~label.sk-toggleable__label {background-color: #d4ebff;}#sk-container-id-1 div.sk-label input.sk-toggleable__control:checked~label.sk-toggleable__label {background-color: #d4ebff;}#sk-container-id-1 input.sk-hidden--visually {border: 0;clip: rect(1px 1px 1px 1px);clip: rect(1px, 1px, 1px, 1px);height: 1px;margin: -1px;overflow: hidden;padding: 0;position: absolute;width: 1px;}#sk-container-id-1 div.sk-estimator {font-family: monospace;background-color: #f0f8ff;border: 1px dotted black;border-radius: 0.25em;box-sizing: border-box;margin-bottom: 0.5em;}#sk-container-id-1 div.sk-estimator:hover {background-color: #d4ebff;}#sk-container-id-1 div.sk-parallel-item::after {content: \"\";width: 100%;border-bottom: 1px solid gray;flex-grow: 1;}#sk-container-id-1 div.sk-label:hover label.sk-toggleable__label {background-color: #d4ebff;}#sk-container-id-1 div.sk-serial::before {content: \"\";position: absolute;border-left: 1px solid gray;box-sizing: border-box;top: 0;bottom: 0;left: 50%;z-index: 0;}#sk-container-id-1 div.sk-serial {display: flex;flex-direction: column;align-items: center;background-color: white;padding-right: 0.2em;padding-left: 0.2em;position: relative;}#sk-container-id-1 div.sk-item {position: relative;z-index: 1;}#sk-container-id-1 div.sk-parallel {display: flex;align-items: stretch;justify-content: center;background-color: white;position: relative;}#sk-container-id-1 div.sk-item::before, #sk-container-id-1 div.sk-parallel-item::before {content: \"\";position: absolute;border-left: 1px solid gray;box-sizing: border-box;top: 0;bottom: 0;left: 50%;z-index: -1;}#sk-container-id-1 div.sk-parallel-item {display: flex;flex-direction: column;z-index: 1;position: relative;background-color: white;}#sk-container-id-1 div.sk-parallel-item:first-child::after {align-self: flex-end;width: 50%;}#sk-container-id-1 div.sk-parallel-item:last-child::after {align-self: flex-start;width: 50%;}#sk-container-id-1 div.sk-parallel-item:only-child::after {width: 0;}#sk-container-id-1 div.sk-dashed-wrapped {border: 1px dashed gray;margin: 0 0.4em 0.5em 0.4em;box-sizing: border-box;padding-bottom: 0.4em;background-color: white;}#sk-container-id-1 div.sk-label label {font-family: monospace;font-weight: bold;display: inline-block;line-height: 1.2em;}#sk-container-id-1 div.sk-label-container {text-align: center;}#sk-container-id-1 div.sk-container {/* jupyter's `normalize.less` sets `[hidden] { display: none; }` but bootstrap.min.css set `[hidden] { display: none !important; }` so we also need the `!important` here to be able to override the default hidden behavior on the sphinx rendered scikit-learn.org. See: https://github.com/scikit-learn/scikit-learn/issues/21755 */display: inline-block !important;position: relative;}#sk-container-id-1 div.sk-text-repr-fallback {display: none;}</style><div id=\"sk-container-id-1\" class=\"sk-top-container\"><div class=\"sk-text-repr-fallback\"><pre>LinearRegression()</pre><b>In a Jupyter environment, please rerun this cell to show the HTML representation or trust the notebook. <br />On GitHub, the HTML representation is unable to render, please try loading this page with nbviewer.org.</b></div><div class=\"sk-container\" hidden><div class=\"sk-item\"><div class=\"sk-estimator sk-toggleable\"><input class=\"sk-toggleable__control sk-hidden--visually\" id=\"sk-estimator-id-1\" type=\"checkbox\" checked><label for=\"sk-estimator-id-1\" class=\"sk-toggleable__label sk-toggleable__label-arrow\">LinearRegression</label><div class=\"sk-toggleable__content\"><pre>LinearRegression()</pre></div></div></div></div></div>"
            ]
          },
          "metadata": {},
          "execution_count": 39
        }
      ]
    },
    {
      "cell_type": "code",
      "source": [
        "y_pred = model.predict(X_test)"
      ],
      "metadata": {
        "id": "qLp1JiefuueQ"
      },
      "execution_count": 40,
      "outputs": []
    },
    {
      "cell_type": "code",
      "source": [
        "from sklearn.metrics import mean_absolute_error, mean_squared_error, r2_score\n",
        "MAE = mean_absolute_error(Y_test, y_pred)\n",
        "MSE = mean_squared_error(Y_test, y_pred, squared = False)\n",
        "R2 = r2_score(Y_test, y_pred)\n",
        "print(f\"Mean Absolute Error: {MAE}\")\n",
        "print(f\"Mean Squared Error: {MSE}\")\n",
        "print(f\"R-Squared Score: {R2}\")"
      ],
      "metadata": {
        "colab": {
          "base_uri": "https://localhost:8080/"
        },
        "id": "UVdH4zKUvS8h",
        "outputId": "1807258b-a01a-4678-f15c-0113c62e518f"
      },
      "execution_count": 42,
      "outputs": [
        {
          "output_type": "stream",
          "name": "stdout",
          "text": [
            "Mean Absolute Error: 1.0508508316709804\n",
            "Mean Squared Error: 1.3017326216212977\n",
            "R-Squared Score: 0.07222743850241065\n"
          ]
        }
      ]
    },
    {
      "cell_type": "code",
      "source": [
        "Y_test = np.random.rand(100) * 10  # Actual Ratings\n",
        "y_pred = np.random.rand(100) * 10  # Predicted Ratings\n",
        "errors = Y_test - y_pred\n",
        "\n",
        "# Creating the scatter plot\n",
        "plt.figure(figsize=(8, 6))\n",
        "plt.scatter(Y_test, y_pred)\n",
        "plt.xlabel(\"Actual Ratings\")\n",
        "plt.ylabel(\"Predicted Ratings\")\n",
        "plt.title(\"Actual vs Predicted Ratings\")\n",
        "\n",
        "plt.show()"
      ],
      "metadata": {
        "colab": {
          "base_uri": "https://localhost:8080/",
          "height": 564
        },
        "id": "IcyPgP5cy-du",
        "outputId": "1e5234dc-68aa-432d-e9a9-85a1371f7d05"
      },
      "execution_count": 45,
      "outputs": [
        {
          "output_type": "display_data",
          "data": {
            "text/plain": [
              "<Figure size 800x600 with 1 Axes>"
            ],
            "image/png": "[encoded data removed]"
          },
          "metadata": {}
        }
      ]
    }
  ]
}